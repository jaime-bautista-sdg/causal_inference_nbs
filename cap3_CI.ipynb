{
 "cells": [
  {
   "cell_type": "markdown",
   "source": [
    "# ANSWERS FOR QUESTIONS 6, 9 AND 10"
   ],
   "metadata": {
    "collapsed": false
   }
  },
  {
   "cell_type": "code",
   "execution_count": 2,
   "outputs": [
    {
     "data": {
      "text/html": "\n            <div id=\"otl8VK\"></div>\n            <script type=\"text/javascript\" data-lets-plot-script=\"library\">\n                if(!window.letsPlotCallQueue) {\n                    window.letsPlotCallQueue = [];\n                }; \n                window.letsPlotCall = function(f) {\n                    window.letsPlotCallQueue.push(f);\n                };\n                (function() {\n                    var script = document.createElement(\"script\");\n                    script.type = \"text/javascript\";\n                    script.src = \"https://cdn.jsdelivr.net/gh/JetBrains/lets-plot@v4.3.1/js-package/distr/lets-plot.min.js\";\n                    script.onload = function() {\n                        window.letsPlotCall = function(f) {f();};\n                        window.letsPlotCallQueue.forEach(function(f) {f();});\n                        window.letsPlotCallQueue = [];\n                        \n                    };\n                    script.onerror = function(event) {\n                        window.letsPlotCall = function(f) {};    // noop\n                        window.letsPlotCallQueue = [];\n                        var div = document.createElement(\"div\");\n                        div.style.color = 'darkred';\n                        div.textContent = 'Error loading Lets-Plot JS';\n                        document.getElementById(\"otl8VK\").appendChild(div);\n                    };\n                    var e = document.getElementById(\"otl8VK\");\n                    e.appendChild(script);\n                })()\n            </script>\n            "
     },
     "metadata": {},
     "output_type": "display_data"
    }
   ],
   "source": [
    "import pandas as pd\n",
    "import statsmodels.formula.api as smf\n",
    "import statsmodels.api as sm\n",
    "from lets_plot import *\n",
    "import matplotlib as plt\n",
    "import networkx as nx\n",
    "LetsPlot.setup_html()# necessary to show plots on jupyter notebook"
   ],
   "metadata": {
    "collapsed": false,
    "ExecuteTime": {
     "end_time": "2024-04-25T09:56:20.788552Z",
     "start_time": "2024-04-25T09:55:56.595020Z"
    }
   }
  },
  {
   "cell_type": "markdown",
   "source": [
    "## QUESTION 6\n",
    "\n",
    "Creating causal graph:"
   ],
   "metadata": {
    "collapsed": false
   }
  },
  {
   "cell_type": "code",
   "execution_count": 3,
   "outputs": [
    {
     "data": {
      "text/plain": "<Figure size 640x480 with 1 Axes>",
      "image/png": "[encoded data removed]"
     },
     "metadata": {},
     "output_type": "display_data"
    }
   ],
   "source": [
    "# creating DAG\n",
    "causal_graph = nx.DiGraph()\n",
    "\n",
    "# Adding nodes\n",
    "causal_graph.add_nodes_from([\"A\", \"B\", \"C\", \"D\", \"E\", \"F\", \"G\", \"H\"])\n",
    "\n",
    "# Adding edges\n",
    "causal_graph.add_edges_from([(\"A\", \"C\"), (\"B\", \"C\"), (\"C\", \"E\"), (\"C\", \"G\"),\n",
    "                             (\"C\", \"D\"), (\"C\", \"H\"), (\"D\", \"F\"), (\"G\", \"H\")])\n",
    "\n",
    "nx.draw_networkx(causal_graph, with_labels=True, node_size=300, node_color=\"skyblue\", font_size=12, font_weight=\"bold\", arrows=True)"
   ],
   "metadata": {
    "collapsed": false,
    "ExecuteTime": {
     "end_time": "2024-04-25T09:56:21.172435Z",
     "start_time": "2024-04-25T09:56:20.798374Z"
    }
   }
  },
  {
   "cell_type": "markdown",
   "source": [
    "a)A y B están correlacionados?"
   ],
   "metadata": {
    "collapsed": false
   }
  },
  {
   "cell_type": "code",
   "execution_count": 4,
   "outputs": [
    {
     "name": "stdout",
     "output_type": "stream",
     "text": [
      "False\n"
     ]
    }
   ],
   "source": [
    "print(not(nx.d_separated(causal_graph, {\"A\"}, {\"B\"},{})))"
   ],
   "metadata": {
    "collapsed": false,
    "ExecuteTime": {
     "end_time": "2024-04-25T09:56:21.181176Z",
     "start_time": "2024-04-25T09:56:21.173998Z"
    }
   }
  },
  {
   "cell_type": "markdown",
   "source": [
    "b)Qué ocurre entre A y B si condiciono en C?\n",
    "Si que hay correlación al condicionar C."
   ],
   "metadata": {
    "collapsed": false
   }
  },
  {
   "cell_type": "code",
   "execution_count": 5,
   "outputs": [
    {
     "name": "stdout",
     "output_type": "stream",
     "text": [
      "True\n"
     ]
    }
   ],
   "source": [
    "print(not(nx.d_separated(causal_graph, {\"A\"}, {\"B\"},{\"C\"})))"
   ],
   "metadata": {
    "collapsed": false,
    "ExecuteTime": {
     "end_time": "2024-04-25T09:56:21.188887Z",
     "start_time": "2024-04-25T09:56:21.183073Z"
    }
   }
  },
  {
   "cell_type": "markdown",
   "source": [
    "c)A y G están correlacionados?"
   ],
   "metadata": {
    "collapsed": false
   }
  },
  {
   "cell_type": "code",
   "execution_count": 6,
   "outputs": [
    {
     "name": "stdout",
     "output_type": "stream",
     "text": [
      "True\n"
     ]
    }
   ],
   "source": [
    "print(not(nx.d_separated(causal_graph, {\"A\"}, {\"G\"},{})))"
   ],
   "metadata": {
    "collapsed": false,
    "ExecuteTime": {
     "end_time": "2024-04-25T09:56:21.287418Z",
     "start_time": "2024-04-25T09:56:21.190002Z"
    }
   }
  },
  {
   "cell_type": "markdown",
   "source": [
    "e)E y D están correlacionados?"
   ],
   "metadata": {
    "collapsed": false
   }
  },
  {
   "cell_type": "code",
   "execution_count": 7,
   "outputs": [
    {
     "name": "stdout",
     "output_type": "stream",
     "text": [
      "True\n"
     ]
    }
   ],
   "source": [
    "print(not(nx.d_separated(causal_graph, {\"E\"}, {\"D\"},{})))"
   ],
   "metadata": {
    "collapsed": false,
    "ExecuteTime": {
     "end_time": "2024-04-25T09:56:21.428465Z",
     "start_time": "2024-04-25T09:56:21.199115Z"
    }
   }
  },
  {
   "cell_type": "markdown",
   "source": [
    "g)Qué ocurre entre E y D si condiciono en C?\n",
    "Al condicionar C ya no estan correlacionados."
   ],
   "metadata": {
    "collapsed": false
   }
  },
  {
   "cell_type": "code",
   "execution_count": 8,
   "outputs": [
    {
     "name": "stdout",
     "output_type": "stream",
     "text": [
      "False\n"
     ]
    }
   ],
   "source": [
    "print(not(nx.d_separated(causal_graph, {\"E\"}, {\"D\"},{\"C\"})))"
   ],
   "metadata": {
    "collapsed": false,
    "ExecuteTime": {
     "end_time": "2024-04-25T09:56:21.430215Z",
     "start_time": "2024-04-25T09:56:21.208333Z"
    }
   }
  },
  {
   "cell_type": "markdown",
   "source": [
    "h)C y F están correlacionados?"
   ],
   "metadata": {
    "collapsed": false
   }
  },
  {
   "cell_type": "code",
   "execution_count": 9,
   "outputs": [
    {
     "name": "stdout",
     "output_type": "stream",
     "text": [
      "True\n"
     ]
    }
   ],
   "source": [
    "print(not(nx.d_separated(causal_graph, {\"E\"}, {\"D\"},{})))"
   ],
   "metadata": {
    "collapsed": false,
    "ExecuteTime": {
     "end_time": "2024-04-25T09:56:21.431780Z",
     "start_time": "2024-04-25T09:56:21.218074Z"
    }
   }
  },
  {
   "cell_type": "markdown",
   "source": [
    "j)Que ocurre entre C y F si condiciono en D?"
   ],
   "metadata": {
    "collapsed": false
   }
  },
  {
   "cell_type": "code",
   "execution_count": 10,
   "outputs": [
    {
     "name": "stdout",
     "output_type": "stream",
     "text": [
      "False\n"
     ]
    }
   ],
   "source": [
    "print(not(nx.d_separated(causal_graph, {\"C\"}, {\"F\"},{\"D\"})))"
   ],
   "metadata": {
    "collapsed": false,
    "ExecuteTime": {
     "end_time": "2024-04-25T09:56:21.432653Z",
     "start_time": "2024-04-25T09:56:21.227944Z"
    }
   }
  },
  {
   "cell_type": "markdown",
   "source": [
    "k)F y H están correlacionados?"
   ],
   "metadata": {
    "collapsed": false
   }
  },
  {
   "cell_type": "code",
   "execution_count": 11,
   "outputs": [
    {
     "name": "stdout",
     "output_type": "stream",
     "text": [
      "True\n"
     ]
    }
   ],
   "source": [
    "print(not(nx.d_separated(causal_graph, {\"F\"}, {\"H\"},{})))"
   ],
   "metadata": {
    "collapsed": false,
    "ExecuteTime": {
     "end_time": "2024-04-25T09:56:21.483549Z",
     "start_time": "2024-04-25T09:56:21.243086Z"
    }
   }
  },
  {
   "cell_type": "markdown",
   "source": [
    "i)Qué ocurre entre H y F si condiciono en C?\n",
    "Si se condiciona C, H y F ya no estan correlacionados."
   ],
   "metadata": {
    "collapsed": false
   }
  },
  {
   "cell_type": "code",
   "execution_count": 12,
   "outputs": [
    {
     "name": "stdout",
     "output_type": "stream",
     "text": [
      "False\n"
     ]
    }
   ],
   "source": [
    "print(not(nx.d_separated(causal_graph, {\"F\"}, {\"H\"},{\"C\"})))"
   ],
   "metadata": {
    "collapsed": false,
    "ExecuteTime": {
     "end_time": "2024-04-25T09:56:21.484564Z",
     "start_time": "2024-04-25T09:56:21.250984Z"
    }
   }
  },
  {
   "cell_type": "markdown",
   "source": [
    "m)Qué ocurre entre H y F si condiciono en G?\n",
    "Seguiran conectados."
   ],
   "metadata": {
    "collapsed": false
   }
  },
  {
   "cell_type": "code",
   "execution_count": 13,
   "outputs": [
    {
     "name": "stdout",
     "output_type": "stream",
     "text": [
      "True\n"
     ]
    }
   ],
   "source": [
    "print(not(nx.d_separated(causal_graph, {\"F\"}, {\"H\"},{\"G\"})))"
   ],
   "metadata": {
    "collapsed": false,
    "ExecuteTime": {
     "end_time": "2024-04-25T09:56:21.485926Z",
     "start_time": "2024-04-25T09:56:21.261749Z"
    }
   }
  },
  {
   "cell_type": "markdown",
   "source": [
    "n)Qué ocurre entre C y H si condiciono en F?\n",
    "No ocurre nada, mantienen su asociación causal directa."
   ],
   "metadata": {
    "collapsed": false
   }
  },
  {
   "cell_type": "code",
   "execution_count": 14,
   "outputs": [
    {
     "name": "stdout",
     "output_type": "stream",
     "text": [
      "True\n"
     ]
    }
   ],
   "source": [
    "print(not(nx.d_separated(causal_graph, {\"C\"}, {\"H\"},{\"F\"})))"
   ],
   "metadata": {
    "collapsed": false,
    "ExecuteTime": {
     "end_time": "2024-04-25T09:56:21.486666Z",
     "start_time": "2024-04-25T09:56:21.271798Z"
    }
   }
  },
  {
   "cell_type": "markdown",
   "source": [
    "o)Qué ocurre entre C y H si condiciono en B?\n",
    "No ocurre nada, mantienen su asociación causal directa."
   ],
   "metadata": {
    "collapsed": false
   }
  },
  {
   "cell_type": "code",
   "execution_count": 15,
   "outputs": [
    {
     "name": "stdout",
     "output_type": "stream",
     "text": [
      "True\n"
     ]
    }
   ],
   "source": [
    "print(not(nx.d_separated(causal_graph, {\"C\"}, {\"H\"},{\"B\"})))"
   ],
   "metadata": {
    "collapsed": false,
    "ExecuteTime": {
     "end_time": "2024-04-25T09:56:21.487895Z",
     "start_time": "2024-04-25T09:56:21.282249Z"
    }
   }
  },
  {
   "cell_type": "markdown",
   "source": [
    "p)Supongamos que queremos medir el efecto causal de C en H. Hay que tener en cuenta G para algo?\n",
    "Si ya que como se ve en el gráfico, y como confirma networkx, hay correlación directa entre G y H. Se debe condicionar G para poder medir el efecto de C en H."
   ],
   "metadata": {
    "collapsed": false
   }
  },
  {
   "cell_type": "code",
   "execution_count": 16,
   "outputs": [
    {
     "name": "stdout",
     "output_type": "stream",
     "text": [
      "True\n"
     ]
    }
   ],
   "source": [
    "print(not(nx.d_separated(causal_graph, {\"G\"}, {\"H\"},{})))"
   ],
   "metadata": {
    "collapsed": false,
    "ExecuteTime": {
     "end_time": "2024-04-25T09:56:21.516696Z",
     "start_time": "2024-04-25T09:56:21.300324Z"
    }
   }
  },
  {
   "cell_type": "markdown",
   "source": [
    "## QUESTION 9\n",
    "Question 9 ask for the ATE of sales in weekly_amount_sold.\n",
    "The first step is loading the dataset."
   ],
   "metadata": {
    "collapsed": false
   }
  },
  {
   "cell_type": "code",
   "execution_count": 17,
   "outputs": [],
   "source": [
    "df_xmas=pd.read_csv(\"xmas_sales.csv\")"
   ],
   "metadata": {
    "collapsed": false,
    "ExecuteTime": {
     "end_time": "2024-04-25T09:56:21.883883Z",
     "start_time": "2024-04-25T09:56:21.301359Z"
    }
   }
  },
  {
   "cell_type": "markdown",
   "source": [
    "Now, the best option for conditioning on avg_week_sales is to add it to the model. The primary reason for calculating the Average Treatment Effect (ATE) with linear regression is that avg_week_sales is continuous, making it easier than creating groups for each value. Additionally, weeks_to_xmas is included because it has a causal effect on weekly_amount_sold. It is evident that adding weeks_to_xmas helps reduce the standard error of is_on_sale.\n",
    "\n",
    "ATE=52.098"
   ],
   "metadata": {
    "collapsed": false
   }
  },
  {
   "cell_type": "code",
   "execution_count": 54,
   "outputs": [
    {
     "name": "stdout",
     "output_type": "stream",
     "text": [
      "=========================================================================================\n",
      "                            coef    std err          t      P>|t|      [0.025      0.975]\n",
      "-----------------------------------------------------------------------------------------\n",
      "Intercept               -54.4981      5.158    -10.566      0.000     -64.614     -44.382\n",
      "C(is_on_sale)[T.1]       52.0981      2.285     22.803      0.000      47.618      56.579\n",
      "C(weeks_to_xmas)[T.1]    33.9861      3.020     11.255      0.000      28.064      39.908\n",
      "C(weeks_to_xmas)[T.2]    70.8106      3.051     23.212      0.000      64.828      76.793\n",
      "C(weeks_to_xmas)[T.3]   111.8251      3.061     36.535      0.000     105.822     117.828\n",
      "avg_week_sales            3.7924      0.242     15.662      0.000       3.318       4.267\n",
      "=========================================================================================\n"
     ]
    }
   ],
   "source": [
    "# regression model with xmas\n",
    "regression_model_xmas = smf.ols('weekly_amount_sold ~ C(is_on_sale)+avg_week_sales+C(weeks_to_xmas)', data=df_xmas).fit()\n",
    "print(regression_model_xmas.summary().tables[1])"
   ],
   "metadata": {
    "collapsed": false,
    "ExecuteTime": {
     "end_time": "2024-04-25T12:23:16.073115Z",
     "start_time": "2024-04-25T12:23:16.043124Z"
    }
   }
  },
  {
   "cell_type": "code",
   "execution_count": 19,
   "outputs": [
    {
     "name": "stdout",
     "output_type": "stream",
     "text": [
      "======================================================================================\n",
      "                         coef    std err          t      P>|t|      [0.025      0.975]\n",
      "--------------------------------------------------------------------------------------\n",
      "Intercept              2.1542      6.306      0.342      0.733     -10.213      14.521\n",
      "C(is_on_sale)[T.1]    68.8460      2.949     23.346      0.000      63.063      74.629\n",
      "avg_week_sales         3.2447      0.318     10.194      0.000       2.620       3.869\n",
      "======================================================================================\n"
     ]
    }
   ],
   "source": [
    "# regression model without xmas\n",
    "regression_model_xmas = smf.ols('weekly_amount_sold ~ C(is_on_sale)+avg_week_sales', data=df_xmas).fit()\n",
    "print(regression_model_xmas.summary().tables[1])"
   ],
   "metadata": {
    "collapsed": false,
    "ExecuteTime": {
     "end_time": "2024-04-25T09:56:21.929760Z",
     "start_time": "2024-04-25T09:56:21.385458Z"
    }
   }
  },
  {
   "cell_type": "markdown",
   "source": [
    "El siguiente codigo calcula el ATE condicionando avg_week_sales y weeks_to_xmas pero de manera \"manual\", sin regresión lineal."
   ],
   "metadata": {
    "collapsed": false
   }
  },
  {
   "cell_type": "code",
   "execution_count": 131,
   "outputs": [
    {
     "name": "stdout",
     "output_type": "stream",
     "text": [
      "Average Treatment Effect (ATE): 6.966304166666667\n"
     ]
    }
   ],
   "source": [
    "def ate_by_var(var):\n",
    "    # Calcular el promedio de weekly_amount_sold para los diferentes grupos de los tratados\n",
    "    treated_mean = df_xmas[df_xmas['is_on_sale'] == 1].groupby(var)['weekly_amount_sold'].mean()\n",
    "\n",
    "    # Calcular el promedio de weekly_amount_sold para los diferentes grupos de los no tratados\n",
    "    untreated_mean = df_xmas[df_xmas['is_on_sale'] == 0].groupby(var)['weekly_amount_sold'].mean()\n",
    "\n",
    "    # Calcular la diferencia entre los promedios\n",
    "    difference = treated_mean - untreated_mean\n",
    "\n",
    "    # Calculo de la probabilidad de cada grupo\n",
    "    prob = df_xmas.groupby(var).size()/df_xmas.shape[0]\n",
    "\n",
    "    # Calcular el ATE usando la fórmula de ajuste\n",
    "    ate = (difference * prob).sum()\n",
    "\n",
    "    # Imprimir el resultado\n",
    "    print(\"Average Treatment Effect (ATE):\", ate)\n",
    "    return ate\n",
    "\n",
    "aux=ate_by_var([\"weeks_to_xmas\", \"avg_week_sales\"])"
   ],
   "metadata": {
    "collapsed": false,
    "ExecuteTime": {
     "end_time": "2024-04-25T14:21:05.129098Z",
     "start_time": "2024-04-25T14:21:05.084524Z"
    }
   }
  },
  {
   "cell_type": "markdown",
   "source": [
    "La misma función de antes pero modificada para calcular el ATE individual de cada variable y realizando un sumatorio al final."
   ],
   "metadata": {
    "collapsed": false
   }
  },
  {
   "cell_type": "code",
   "execution_count": 132,
   "outputs": [
    {
     "name": "stdout",
     "output_type": "stream",
     "text": [
      "Average Treatment Effect (ATE): 118.90892247664985\n"
     ]
    }
   ],
   "source": [
    "def ate_by_var(vars):\n",
    "    ate=0\n",
    "    for var in vars:\n",
    "        # Calcular el promedio de weekly_amount_sold para los diferentes grupos de los tratados\n",
    "        treated_mean = df_xmas[df_xmas['is_on_sale'] == 1].groupby(var)['weekly_amount_sold'].mean()\n",
    "\n",
    "        # Calcular el promedio de weekly_amount_sold para los diferentes grupos de los no tratados\n",
    "        untreated_mean = df_xmas[df_xmas['is_on_sale'] == 0].groupby(var)['weekly_amount_sold'].mean()\n",
    "\n",
    "        # Calcular la diferencia entre los promedios\n",
    "        difference = treated_mean - untreated_mean\n",
    "\n",
    "        # Calculo de la probabilidad de cada grupo\n",
    "        prob = df_xmas.groupby(var).size()/df_xmas.shape[0]\n",
    "\n",
    "        # Calcular el ATE usando la fórmula de ajuste\n",
    "        ate += (difference * prob).sum()\n",
    "\n",
    "\n",
    "    # Imprimir el resultado\n",
    "    print(\"Average Treatment Effect (ATE):\", ate)\n",
    "    return ate\n",
    "\n",
    "aux=ate_by_var([\"weeks_to_xmas\", \"avg_week_sales\"])"
   ],
   "metadata": {
    "collapsed": false,
    "ExecuteTime": {
     "end_time": "2024-04-25T14:21:06.947070Z",
     "start_time": "2024-04-25T14:21:06.927212Z"
    }
   }
  },
  {
   "cell_type": "markdown",
   "source": [
    "# QUESTION 10\n",
    "It is necessary to calculate the ATE, but now for the cross-email case."
   ],
   "metadata": {
    "collapsed": false
   }
  },
  {
   "cell_type": "code",
   "execution_count": 54,
   "outputs": [
    {
     "name": "stdout",
     "output_type": "stream",
     "text": [
      "gender              0\n",
      "cross_sell_email    0\n",
      "age                 0\n",
      "conversion          0\n",
      "dtype: int64\n"
     ]
    },
    {
     "data": {
      "text/plain": "   gender cross_sell_email  age  conversion\n0       0            short   15           0\n1       1            short   27           0\n2       1             long   17           0\n3       1             long   34           0\n4       1         no_email   14           0",
      "text/html": "<div>\n<style scoped>\n    .dataframe tbody tr th:only-of-type {\n        vertical-align: middle;\n    }\n\n    .dataframe tbody tr th {\n        vertical-align: top;\n    }\n\n    .dataframe thead th {\n        text-align: right;\n    }\n</style>\n<table border=\"1\" class=\"dataframe\">\n  <thead>\n    <tr style=\"text-align: right;\">\n      <th></th>\n      <th>gender</th>\n      <th>cross_sell_email</th>\n      <th>age</th>\n      <th>conversion</th>\n    </tr>\n  </thead>\n  <tbody>\n    <tr>\n      <th>0</th>\n      <td>0</td>\n      <td>short</td>\n      <td>15</td>\n      <td>0</td>\n    </tr>\n    <tr>\n      <th>1</th>\n      <td>1</td>\n      <td>short</td>\n      <td>27</td>\n      <td>0</td>\n    </tr>\n    <tr>\n      <th>2</th>\n      <td>1</td>\n      <td>long</td>\n      <td>17</td>\n      <td>0</td>\n    </tr>\n    <tr>\n      <th>3</th>\n      <td>1</td>\n      <td>long</td>\n      <td>34</td>\n      <td>0</td>\n    </tr>\n    <tr>\n      <th>4</th>\n      <td>1</td>\n      <td>no_email</td>\n      <td>14</td>\n      <td>0</td>\n    </tr>\n  </tbody>\n</table>\n</div>"
     },
     "execution_count": 54,
     "metadata": {},
     "output_type": "execute_result"
    }
   ],
   "source": [
    "df_cross_email=pd.read_csv(\"cross_sell_email.csv\")\n",
    "print(df_cross_email.isnull().sum())\n",
    "df_cross_email.head()"
   ],
   "metadata": {
    "collapsed": false,
    "ExecuteTime": {
     "end_time": "2024-04-24T15:39:02.858347Z",
     "start_time": "2024-04-24T15:39:02.414620Z"
    }
   }
  },
  {
   "cell_type": "code",
   "execution_count": 55,
   "outputs": [
    {
     "name": "stdout",
     "output_type": "stream",
     "text": [
      "gender               int64\n",
      "cross_sell_email    object\n",
      "age                  int64\n",
      "conversion           int64\n",
      "dtype: object\n"
     ]
    }
   ],
   "source": [
    "print(df_cross_email.dtypes)"
   ],
   "metadata": {
    "collapsed": false,
    "ExecuteTime": {
     "end_time": "2024-04-24T15:39:02.860147Z",
     "start_time": "2024-04-24T15:39:02.459397Z"
    }
   }
  },
  {
   "cell_type": "markdown",
   "source": [
    "Encoding cross_sell_email because it is categorical and to use sm.Logit it should be numerical.Also, it is created one dataframe with objetive variable and other with independent variables to predict."
   ],
   "metadata": {
    "collapsed": false
   }
  },
  {
   "cell_type": "code",
   "execution_count": 56,
   "outputs": [
    {
     "name": "stdout",
     "output_type": "stream",
     "text": [
      "cross_sell_email_long        int64\n",
      "cross_sell_email_no_email    int64\n",
      "cross_sell_email_short       int64\n",
      "dtype: object\n"
     ]
    },
    {
     "data": {
      "text/plain": "   cross_sell_email_long  cross_sell_email_no_email  cross_sell_email_short\n0                      0                          0                       1\n1                      0                          0                       1\n2                      1                          0                       0\n3                      1                          0                       0\n4                      0                          1                       0",
      "text/html": "<div>\n<style scoped>\n    .dataframe tbody tr th:only-of-type {\n        vertical-align: middle;\n    }\n\n    .dataframe tbody tr th {\n        vertical-align: top;\n    }\n\n    .dataframe thead th {\n        text-align: right;\n    }\n</style>\n<table border=\"1\" class=\"dataframe\">\n  <thead>\n    <tr style=\"text-align: right;\">\n      <th></th>\n      <th>cross_sell_email_long</th>\n      <th>cross_sell_email_no_email</th>\n      <th>cross_sell_email_short</th>\n    </tr>\n  </thead>\n  <tbody>\n    <tr>\n      <th>0</th>\n      <td>0</td>\n      <td>0</td>\n      <td>1</td>\n    </tr>\n    <tr>\n      <th>1</th>\n      <td>0</td>\n      <td>0</td>\n      <td>1</td>\n    </tr>\n    <tr>\n      <th>2</th>\n      <td>1</td>\n      <td>0</td>\n      <td>0</td>\n    </tr>\n    <tr>\n      <th>3</th>\n      <td>1</td>\n      <td>0</td>\n      <td>0</td>\n    </tr>\n    <tr>\n      <th>4</th>\n      <td>0</td>\n      <td>1</td>\n      <td>0</td>\n    </tr>\n  </tbody>\n</table>\n</div>"
     },
     "execution_count": 56,
     "metadata": {},
     "output_type": "execute_result"
    }
   ],
   "source": [
    "df_Y=df_cross_email['conversion']\n",
    "df_cross_email_encoded = pd.get_dummies(df_cross_email, columns=['cross_sell_email'],dtype=int)\n",
    "#df_cross_email_encoded = pd.concat([df_cross_email, df_cross_email_encoded], axis=1)\n",
    "df_X=df_cross_email_encoded.drop(columns=['conversion', 'age', 'gender'])\n",
    "print(df_X.dtypes)\n",
    "df_X.head()"
   ],
   "metadata": {
    "collapsed": false,
    "ExecuteTime": {
     "end_time": "2024-04-24T15:39:02.860621Z",
     "start_time": "2024-04-24T15:39:02.490099Z"
    }
   }
  },
  {
   "cell_type": "code",
   "execution_count": 57,
   "outputs": [
    {
     "name": "stdout",
     "output_type": "stream",
     "text": [
      "Optimization terminated successfully.\n",
      "         Current function value: 0.263106\n",
      "         Iterations 7\n",
      "                           Logit Regression Results                           \n",
      "==============================================================================\n",
      "Dep. Variable:             conversion   No. Observations:                  323\n",
      "Model:                          Logit   Df Residuals:                      320\n",
      "Method:                           MLE   Df Model:                            2\n",
      "Date:                Wed, 24 Apr 2024   Pseudo R-squ.:                 0.03402\n",
      "Time:                        17:39:02   Log-Likelihood:                -84.983\n",
      "converged:                       True   LL-Null:                       -87.976\n",
      "Covariance Type:            nonrobust   LLR p-value:                   0.05016\n",
      "=============================================================================================\n",
      "                                coef    std err          z      P>|z|      [0.025      0.975]\n",
      "---------------------------------------------------------------------------------------------\n",
      "cross_sell_email_long        -2.8430      0.420     -6.769      0.000      -3.666      -2.020\n",
      "cross_sell_email_no_email    -3.1135      0.511     -6.093      0.000      -4.115      -2.112\n",
      "cross_sell_email_short       -1.9459      0.276     -7.050      0.000      -2.487      -1.405\n",
      "=============================================================================================\n"
     ]
    }
   ],
   "source": [
    "regression_model_emails = sm.Logit(df_Y,df_X).fit()\n",
    "print(regression_model_emails.summary())"
   ],
   "metadata": {
    "collapsed": false,
    "ExecuteTime": {
     "end_time": "2024-04-24T15:39:02.860953Z",
     "start_time": "2024-04-24T15:39:02.528721Z"
    }
   }
  },
  {
   "cell_type": "markdown",
   "source": [
    "Age and gender do not seem to introduce any bias because there is balance in treatment (cross-sell email) and outcome (conversion)."
   ],
   "metadata": {
    "collapsed": false
   }
  },
  {
   "cell_type": "code",
   "execution_count": 58,
   "outputs": [
    {
     "data": {
      "text/plain": "<lets_plot.plot.core.PlotSpec at 0x133da5450>",
      "text/html": "   <div id=\"dqkMR0\"></div>\n   <script type=\"text/javascript\" data-lets-plot-script=\"plot\">\n       (function() {\n           var plotSpec={\n\"data\":{\n},\n\"mapping\":{\n\"x\":\"gender\"\n},\n\"data_meta\":{\n},\n\"facet\":{\n\"name\":\"wrap\",\n\"facets\":\"cross_sell_email\",\n\"ncol\":3.0,\n\"order\":1.0,\n\"dir\":\"h\"\n},\n\"ggtitle\":{\n\"text\":\"GENDER BY CROSS SELL EMAIL\"\n},\n\"kind\":\"plot\",\n\"scales\":[],\n\"layers\":[{\n\"geom\":\"bar\",\n\"mapping\":{\n\"fill\":\"cross_sell_email\"\n},\n\"data_meta\":{\n\"series_annotations\":[{\n\"column\":\"cross_sell_email\",\n\"factor_levels\":[\"short\",\"long\",\"no_email\"]\n}]\n},\n\"data\":{\n\"..count..\":[60.0,49.0,51.0,43.0,44.0,76.0],\n\"gender\":[1.0,0.0,1.0,0.0,0.0,1.0],\n\"cross_sell_email\":[\"long\",\"long\",\"no_email\",\"no_email\",\"short\",\"short\"]\n}\n}],\n\"metainfo_list\":[]\n};\n           var plotContainer = document.getElementById(\"dqkMR0\");\n           window.letsPlotCall(function() {{\n               LetsPlot.buildPlotFromProcessedSpecs(plotSpec, -1, -1, plotContainer);\n           }});\n       })();\n   </script>"
     },
     "execution_count": 58,
     "metadata": {},
     "output_type": "execute_result"
    }
   ],
   "source": [
    "(ggplot(df_cross_email,aes(\"gender\"))\n",
    "    + geom_bar(aes(fill=\"cross_sell_email\"))\n",
    "    + facet_wrap(facets=\"cross_sell_email\", ncol=3)\n",
    "    + ggtitle(\"GENDER BY CROSS SELL EMAIL\")\n",
    "    )"
   ],
   "metadata": {
    "collapsed": false,
    "ExecuteTime": {
     "end_time": "2024-04-24T15:39:02.861254Z",
     "start_time": "2024-04-24T15:39:02.589855Z"
    }
   }
  },
  {
   "cell_type": "code",
   "execution_count": 59,
   "outputs": [
    {
     "data": {
      "text/plain": "<lets_plot.plot.core.PlotSpec at 0x133e4e200>",
      "text/html": "   <div id=\"7HDsLa\"></div>\n   <script type=\"text/javascript\" data-lets-plot-script=\"plot\">\n       (function() {\n           var plotSpec={\n\"data\":{\n},\n\"mapping\":{\n\"x\":\"age\",\n\"color\":\"cross_sell_email\"\n},\n\"data_meta\":{\n},\n\"facet\":{\n\"name\":\"wrap\",\n\"facets\":\"cross_sell_email\",\n\"ncol\":3.0,\n\"order\":1.0,\n\"dir\":\"h\"\n},\n\"ggtitle\":{\n\"text\":\"AGE BY CROSS SELL EMAIL\"\n},\n\"kind\":\"plot\",\n\"scales\":[],\n\"layers\":[{\n\"geom\":\"histogram\",\n\"mapping\":{\n},\n\"data_meta\":{\n\"series_annotations\":[{\n\"column\":\"cross_sell_email\",\n\"factor_levels\":[\"short\",\"long\",\"no_email\"]\n}]\n},\n\"data\":{\n\"..count..\":[4.0,8.0,7.0,7.0,15.0,8.0,7.0,7.0,5.0,5.0,7.0,4.0,3.0,3.0,4.0,4.0,1.0,3.0,1.0,2.0,2.0,0.0,0.0,1.0,1.0,0.0,0.0,0.0,0.0,0.0,6.0,10.0,10.0,9.0,11.0,4.0,3.0,8.0,7.0,4.0,4.0,0.0,4.0,3.0,1.0,6.0,2.0,0.0,0.0,0.0,0.0,0.0,0.0,0.0,0.0,0.0,1.0,1.0,0.0,0.0,2.0,13.0,9.0,11.0,11.0,14.0,17.0,3.0,5.0,7.0,4.0,2.0,7.0,3.0,2.0,1.0,1.0,0.0,1.0,0.0,2.0,1.0,1.0,0.0,1.0,0.0,0.0,1.0,0.0,1.0],\n\"age\":[13.823333333333334,14.870000000000001,15.916666666666668,16.963333333333335,18.01,19.05666666666667,20.10333333333333,21.15,22.196666666666665,23.243333333333332,24.29,25.336666666666666,26.383333333333333,27.43,28.476666666666667,29.523333333333333,30.57,31.616666666666667,32.663333333333334,33.71,34.75666666666667,35.803333333333335,36.85,37.89666666666667,38.94333333333333,39.989999999999995,41.03666666666666,42.08333333333333,43.129999999999995,44.17666666666666,13.823333333333334,14.870000000000001,15.916666666666668,16.963333333333335,18.01,19.05666666666667,20.10333333333333,21.15,22.196666666666665,23.243333333333332,24.29,25.336666666666666,26.383333333333333,27.43,28.476666666666667,29.523333333333333,30.57,31.616666666666667,32.663333333333334,33.71,34.75666666666667,35.803333333333335,36.85,37.89666666666667,38.94333333333333,39.989999999999995,41.03666666666666,42.08333333333333,43.129999999999995,44.17666666666666,13.823333333333334,14.870000000000001,15.916666666666668,16.963333333333335,18.01,19.05666666666667,20.10333333333333,21.15,22.196666666666665,23.243333333333332,24.29,25.336666666666666,26.383333333333333,27.43,28.476666666666667,29.523333333333333,30.57,31.616666666666667,32.663333333333334,33.71,34.75666666666667,35.803333333333335,36.85,37.89666666666667,38.94333333333333,39.989999999999995,41.03666666666666,42.08333333333333,43.129999999999995,44.17666666666666],\n\"cross_sell_email\":[\"long\",\"long\",\"long\",\"long\",\"long\",\"long\",\"long\",\"long\",\"long\",\"long\",\"long\",\"long\",\"long\",\"long\",\"long\",\"long\",\"long\",\"long\",\"long\",\"long\",\"long\",\"long\",\"long\",\"long\",\"long\",\"long\",\"long\",\"long\",\"long\",\"long\",\"no_email\",\"no_email\",\"no_email\",\"no_email\",\"no_email\",\"no_email\",\"no_email\",\"no_email\",\"no_email\",\"no_email\",\"no_email\",\"no_email\",\"no_email\",\"no_email\",\"no_email\",\"no_email\",\"no_email\",\"no_email\",\"no_email\",\"no_email\",\"no_email\",\"no_email\",\"no_email\",\"no_email\",\"no_email\",\"no_email\",\"no_email\",\"no_email\",\"no_email\",\"no_email\",\"short\",\"short\",\"short\",\"short\",\"short\",\"short\",\"short\",\"short\",\"short\",\"short\",\"short\",\"short\",\"short\",\"short\",\"short\",\"short\",\"short\",\"short\",\"short\",\"short\",\"short\",\"short\",\"short\",\"short\",\"short\",\"short\",\"short\",\"short\",\"short\",\"short\"]\n}\n}],\n\"metainfo_list\":[]\n};\n           var plotContainer = document.getElementById(\"7HDsLa\");\n           window.letsPlotCall(function() {{\n               LetsPlot.buildPlotFromProcessedSpecs(plotSpec, -1, -1, plotContainer);\n           }});\n       })();\n   </script>"
     },
     "execution_count": 59,
     "metadata": {},
     "output_type": "execute_result"
    }
   ],
   "source": [
    "(ggplot(df_cross_email,aes(\"age\", color=\"cross_sell_email\"))\n",
    "    + geom_histogram()\n",
    "    + facet_wrap(facets=\"cross_sell_email\", ncol=3)\n",
    "    + ggtitle(\"AGE BY CROSS SELL EMAIL\")\n",
    "    )"
   ],
   "metadata": {
    "collapsed": false,
    "ExecuteTime": {
     "end_time": "2024-04-24T15:39:02.861532Z",
     "start_time": "2024-04-24T15:39:02.617836Z"
    }
   }
  },
  {
   "cell_type": "markdown",
   "source": [
    "It is remarkable that there is a imbalance between cases with conversions and without conversions in the dataset."
   ],
   "metadata": {
    "collapsed": false
   }
  },
  {
   "cell_type": "code",
   "execution_count": 60,
   "outputs": [
    {
     "data": {
      "text/plain": "<lets_plot.plot.core.PlotSpec at 0x133e290f0>",
      "text/html": "   <div id=\"VQm22I\"></div>\n   <script type=\"text/javascript\" data-lets-plot-script=\"plot\">\n       (function() {\n           var plotSpec={\n\"data\":{\n},\n\"mapping\":{\n\"x\":\"conversion\"\n},\n\"data_meta\":{\n},\n\"ggtitle\":{\n\"text\":\"CASES WITH CONVERSION AND WITHOUT IN THE DATASET\"\n},\n\"kind\":\"plot\",\n\"scales\":[],\n\"layers\":[{\n\"geom\":\"bar\",\n\"mapping\":{\n},\n\"data_meta\":{\n},\n\"data\":{\n\"..count..\":[298.0,25.0],\n\"conversion\":[0.0,1.0]\n}\n}],\n\"metainfo_list\":[]\n};\n           var plotContainer = document.getElementById(\"VQm22I\");\n           window.letsPlotCall(function() {{\n               LetsPlot.buildPlotFromProcessedSpecs(plotSpec, -1, -1, plotContainer);\n           }});\n       })();\n   </script>"
     },
     "execution_count": 60,
     "metadata": {},
     "output_type": "execute_result"
    }
   ],
   "source": [
    "(\n",
    "    ggplot(df_cross_email, aes(\"conversion\"))\n",
    "    + geom_bar()\n",
    "    + ggtitle(\"CASES WITH CONVERSION AND WITHOUT IN THE DATASET\")\n",
    ")"
   ],
   "metadata": {
    "collapsed": false,
    "ExecuteTime": {
     "end_time": "2024-04-24T15:39:02.861857Z",
     "start_time": "2024-04-24T15:39:02.635910Z"
    }
   }
  },
  {
   "cell_type": "code",
   "execution_count": 61,
   "outputs": [
    {
     "data": {
      "text/plain": "<lets_plot.plot.core.PlotSpec at 0x133d559c0>",
      "text/html": "   <div id=\"rGwjX5\"></div>\n   <script type=\"text/javascript\" data-lets-plot-script=\"plot\">\n       (function() {\n           var plotSpec={\n\"data\":{\n},\n\"mapping\":{\n\"x\":\"gender\"\n},\n\"data_meta\":{\n},\n\"facet\":{\n\"name\":\"wrap\",\n\"facets\":\"conversion\",\n\"ncol\":2.0,\n\"order\":1.0,\n\"dir\":\"h\"\n},\n\"ggtitle\":{\n\"text\":\"GENDER BY CONVERSION\"\n},\n\"kind\":\"plot\",\n\"scales\":[],\n\"layers\":[{\n\"geom\":\"bar\",\n\"mapping\":{\n\"group\":\"conversion\"\n},\n\"data_meta\":{\n\"series_annotations\":[]\n},\n\"data\":{\n\"..count..\":[126.0,172.0,10.0,15.0],\n\"gender\":[0.0,1.0,0.0,1.0],\n\"conversion\":[0.0,0.0,1.0,1.0]\n}\n}],\n\"metainfo_list\":[]\n};\n           var plotContainer = document.getElementById(\"rGwjX5\");\n           window.letsPlotCall(function() {{\n               LetsPlot.buildPlotFromProcessedSpecs(plotSpec, -1, -1, plotContainer);\n           }});\n       })();\n   </script>"
     },
     "execution_count": 61,
     "metadata": {},
     "output_type": "execute_result"
    }
   ],
   "source": [
    "(ggplot(df_cross_email,aes(\"gender\"))\n",
    "    + geom_bar(aes(group=\"conversion\"))\n",
    "    + facet_wrap(facets=\"conversion\", ncol=2)\n",
    "    + ggtitle(\"GENDER BY CONVERSION\")\n",
    "    )\n"
   ],
   "metadata": {
    "collapsed": false,
    "ExecuteTime": {
     "end_time": "2024-04-24T15:39:02.862226Z",
     "start_time": "2024-04-24T15:39:02.652249Z"
    }
   }
  },
  {
   "cell_type": "code",
   "execution_count": 62,
   "outputs": [
    {
     "data": {
      "text/plain": "<lets_plot.plot.core.PlotSpec at 0x133e5c460>",
      "text/html": "   <div id=\"fkt8FQ\"></div>\n   <script type=\"text/javascript\" data-lets-plot-script=\"plot\">\n       (function() {\n           var plotSpec={\n\"data\":{\n},\n\"mapping\":{\n\"x\":\"age\"\n},\n\"data_meta\":{\n},\n\"facet\":{\n\"name\":\"wrap\",\n\"facets\":\"conversion\",\n\"ncol\":2.0,\n\"order\":1.0,\n\"dir\":\"h\"\n},\n\"ggtitle\":{\n\"text\":\"AGE BY CONVERSION\"\n},\n\"kind\":\"plot\",\n\"scales\":[],\n\"layers\":[{\n\"geom\":\"histogram\",\n\"mapping\":{\n\"group\":\"conversion\",\n\"fill\":\"conversion\"\n},\n\"data_meta\":{\n\"series_annotations\":[]\n},\n\"data\":{\n\"..count..\":[11.0,29.0,21.0,18.0,34.0,24.0,26.0,17.0,17.0,16.0,14.0,6.0,14.0,9.0,7.0,11.0,4.0,3.0,2.0,2.0,4.0,1.0,1.0,1.0,2.0,0.0,1.0,2.0,0.0,1.0,1.0,2.0,5.0,9.0,3.0,2.0,1.0,1.0,0.0,0.0,1.0,0.0,0.0,0.0,0.0,0.0,0.0,0.0,0.0,0.0,0.0,0.0,0.0,0.0,0.0,0.0,0.0,0.0,0.0,0.0],\n\"age\":[13.823333333333334,14.870000000000001,15.916666666666668,16.963333333333335,18.01,19.05666666666667,20.10333333333333,21.15,22.196666666666665,23.243333333333332,24.29,25.336666666666666,26.383333333333333,27.43,28.476666666666667,29.523333333333333,30.57,31.616666666666667,32.663333333333334,33.71,34.75666666666667,35.803333333333335,36.85,37.89666666666667,38.94333333333333,39.989999999999995,41.03666666666666,42.08333333333333,43.129999999999995,44.17666666666666,13.823333333333334,14.870000000000001,15.916666666666668,16.963333333333335,18.01,19.05666666666667,20.10333333333333,21.15,22.196666666666665,23.243333333333332,24.29,25.336666666666666,26.383333333333333,27.43,28.476666666666667,29.523333333333333,30.57,31.616666666666667,32.663333333333334,33.71,34.75666666666667,35.803333333333335,36.85,37.89666666666667,38.94333333333333,39.989999999999995,41.03666666666666,42.08333333333333,43.129999999999995,44.17666666666666],\n\"conversion\":[0.0,0.0,0.0,0.0,0.0,0.0,0.0,0.0,0.0,0.0,0.0,0.0,0.0,0.0,0.0,0.0,0.0,0.0,0.0,0.0,0.0,0.0,0.0,0.0,0.0,0.0,0.0,0.0,0.0,0.0,1.0,1.0,1.0,1.0,1.0,1.0,1.0,1.0,1.0,1.0,1.0,1.0,1.0,1.0,1.0,1.0,1.0,1.0,1.0,1.0,1.0,1.0,1.0,1.0,1.0,1.0,1.0,1.0,1.0,1.0]\n}\n}],\n\"metainfo_list\":[]\n};\n           var plotContainer = document.getElementById(\"fkt8FQ\");\n           window.letsPlotCall(function() {{\n               LetsPlot.buildPlotFromProcessedSpecs(plotSpec, -1, -1, plotContainer);\n           }});\n       })();\n   </script>"
     },
     "execution_count": 62,
     "metadata": {},
     "output_type": "execute_result"
    }
   ],
   "source": [
    "(ggplot(df_cross_email,aes(\"age\"))\n",
    "    + geom_histogram(aes(group=\"conversion\", fill=\"conversion\"))\n",
    "    + facet_wrap(facets=\"conversion\", ncol=2)\n",
    "    + ggtitle(\"AGE BY CONVERSION\")\n",
    "    )"
   ],
   "metadata": {
    "collapsed": false,
    "ExecuteTime": {
     "end_time": "2024-04-24T15:39:02.862640Z",
     "start_time": "2024-04-24T15:39:02.667781Z"
    }
   }
  },
  {
   "cell_type": "code",
   "execution_count": 62,
   "outputs": [],
   "source": [],
   "metadata": {
    "collapsed": false,
    "ExecuteTime": {
     "end_time": "2024-04-24T15:39:02.862962Z",
     "start_time": "2024-04-24T15:39:02.687915Z"
    }
   }
  }
 ],
 "metadata": {
  "kernelspec": {
   "display_name": "Python 3",
   "language": "python",
   "name": "python3"
  },
  "language_info": {
   "codemirror_mode": {
    "name": "ipython",
    "version": 2
   },
   "file_extension": ".py",
   "mimetype": "text/x-python",
   "name": "python",
   "nbconvert_exporter": "python",
   "pygments_lexer": "ipython2",
   "version": "2.7.6"
  }
 },
 "nbformat": 4,
 "nbformat_minor": 0
}
